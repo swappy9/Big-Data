{
 "cells": [
  {
   "cell_type": "code",
   "execution_count": 7,
   "metadata": {},
   "outputs": [],
   "source": [
    "import pandas as pd\n",
    "import numpy as np\n",
    "import seaborn as sns\n",
    "import matplotlib as plt\n",
    "import csv\n",
    "%matplotlib inline"
   ]
  },
  {
   "cell_type": "code",
   "execution_count": 8,
   "metadata": {
    "collapsed": true
   },
   "outputs": [],
   "source": [
    "filename = 'citibike.csv'"
   ]
  },
  {
   "cell_type": "code",
   "execution_count": null,
   "metadata": {
    "collapsed": true
   },
   "outputs": [],
   "source": [
    "#Using HOF - part a"
   ]
  },
  {
   "cell_type": "code",
   "execution_count": 20,
   "metadata": {
    "collapsed": true
   },
   "outputs": [],
   "source": [
    "from functools import reduce"
   ]
  },
  {
   "cell_type": "code",
   "execution_count": 21,
   "metadata": {
    "collapsed": true
   },
   "outputs": [],
   "source": [
    "def male_female1(row):\n",
    "    return float(row['gender'])"
   ]
  },
  {
   "cell_type": "code",
   "execution_count": 24,
   "metadata": {},
   "outputs": [
    {
     "name": "stdout",
     "output_type": "stream",
     "text": [
      "(37805, 7848)\n"
     ]
    }
   ],
   "source": [
    "#Using High Order Python Functions to map, and filter the Gender and lastly taking the count of each gender\n",
    "\n",
    "with open(filename,'r') as fi:\n",
    "    reader = csv.DictReader(fi)\n",
    "    b = reduce(lambda x,y: (x[0]+y[0],x[1]+y[1]),map(lambda x:(int(x==1.0),int(x==2.0)),map(male_female1, reader)))\n",
    "    print(tuple(b))"
   ]
  },
  {
   "cell_type": "code",
   "execution_count": null,
   "metadata": {
    "collapsed": true
   },
   "outputs": [],
   "source": []
  },
  {
   "cell_type": "code",
   "execution_count": null,
   "metadata": {
    "collapsed": true
   },
   "outputs": [],
   "source": [
    "#Part b"
   ]
  },
  {
   "cell_type": "code",
   "execution_count": 25,
   "metadata": {
    "collapsed": true
   },
   "outputs": [],
   "source": [
    "def birth_year(row):\n",
    "    return row['birth_year']"
   ]
  },
  {
   "cell_type": "code",
   "execution_count": 28,
   "metadata": {},
   "outputs": [],
   "source": [
    "#Reading data line by line and only storing the count, birth year in a dictionary. Total length <100\n",
    "count={}\n",
    "with open(filename,'r') as fi:\n",
    "    reader = csv.DictReader(fi)\n",
    "    for i in list(map(birth_year, reader)):\n",
    "        if i != '':\n",
    "            count[i] = count.get(i,0)+1"
   ]
  },
  {
   "cell_type": "code",
   "execution_count": 29,
   "metadata": {},
   "outputs": [
    {
     "data": {
      "text/plain": [
       "{'1900': 22,\n",
       " '1901': 1,\n",
       " '1910': 2,\n",
       " '1922': 4,\n",
       " '1926': 1,\n",
       " '1929': 1,\n",
       " '1934': 8,\n",
       " '1935': 9,\n",
       " '1938': 24,\n",
       " '1939': 4,\n",
       " '1940': 21,\n",
       " '1941': 39,\n",
       " '1942': 61,\n",
       " '1943': 18,\n",
       " '1944': 59,\n",
       " '1945': 28,\n",
       " '1946': 93,\n",
       " '1947': 74,\n",
       " '1948': 149,\n",
       " '1949': 134,\n",
       " '1950': 150,\n",
       " '1951': 229,\n",
       " '1952': 247,\n",
       " '1953': 346,\n",
       " '1954': 417,\n",
       " '1955': 413,\n",
       " '1956': 488,\n",
       " '1957': 449,\n",
       " '1958': 783,\n",
       " '1959': 687,\n",
       " '1960': 771,\n",
       " '1961': 618,\n",
       " '1962': 899,\n",
       " '1963': 970,\n",
       " '1964': 891,\n",
       " '1965': 947,\n",
       " '1966': 863,\n",
       " '1967': 999,\n",
       " '1968': 1010,\n",
       " '1969': 1133,\n",
       " '1970': 1347,\n",
       " '1971': 1162,\n",
       " '1972': 1081,\n",
       " '1973': 1022,\n",
       " '1974': 1158,\n",
       " '1975': 1071,\n",
       " '1976': 1168,\n",
       " '1977': 1122,\n",
       " '1978': 1377,\n",
       " '1979': 1279,\n",
       " '1980': 1509,\n",
       " '1981': 1499,\n",
       " '1982': 1455,\n",
       " '1983': 1793,\n",
       " '1984': 1714,\n",
       " '1985': 1673,\n",
       " '1986': 1568,\n",
       " '1987': 1730,\n",
       " '1988': 1358,\n",
       " '1989': 1322,\n",
       " '1990': 1361,\n",
       " '1991': 922,\n",
       " '1992': 493,\n",
       " '1993': 470,\n",
       " '1994': 392,\n",
       " '1995': 256,\n",
       " '1996': 124,\n",
       " '1997': 94,\n",
       " '1998': 59,\n",
       " '1999': 17}"
      ]
     },
     "execution_count": 29,
     "metadata": {},
     "output_type": "execute_result"
    }
   ],
   "source": [
    "count"
   ]
  },
  {
   "cell_type": "code",
   "execution_count": null,
   "metadata": {
    "collapsed": true
   },
   "outputs": [],
   "source": []
  }
 ],
 "metadata": {
  "kernelspec": {
   "display_name": "Python 3",
   "language": "python",
   "name": "python3"
  },
  "language_info": {
   "codemirror_mode": {
    "name": "ipython",
    "version": 3
   },
   "file_extension": ".py",
   "mimetype": "text/x-python",
   "name": "python",
   "nbconvert_exporter": "python",
   "pygments_lexer": "ipython3",
   "version": "3.4.3"
  }
 },
 "nbformat": 4,
 "nbformat_minor": 1
}

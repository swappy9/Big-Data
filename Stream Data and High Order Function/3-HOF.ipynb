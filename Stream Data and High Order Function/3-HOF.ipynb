{
 "cells": [
  {
   "cell_type": "code",
   "execution_count": 2,
   "metadata": {},
   "outputs": [],
   "source": [
    "import pandas as pd\n",
    "import numpy as np\n",
    "import seaborn as sns\n",
    "import matplotlib as plt\n",
    "import csv\n",
    "%matplotlib inline"
   ]
  },
  {
   "cell_type": "code",
   "execution_count": 3,
   "metadata": {},
   "outputs": [],
   "source": [
    "filename = 'citibike.csv'"
   ]
  },
  {
   "cell_type": "code",
   "execution_count": 4,
   "metadata": {},
   "outputs": [],
   "source": [
    "from functools import reduce\n",
    "from operator import itemgetter"
   ]
  },
  {
   "cell_type": "code",
   "execution_count": 5,
   "metadata": {},
   "outputs": [],
   "source": [
    "#Function to return the date and Time from starttime (time stamp) column and the birth_year of the customer\n",
    "\n",
    "def birth_year(line):\n",
    "    return line['starttime'].split()[0], line['starttime'].split()[1].split('+')[0], line['birth_year']"
   ]
  },
  {
   "cell_type": "code",
   "execution_count": 7,
   "metadata": {},
   "outputs": [
    {
     "name": "stdout",
     "output_type": "stream",
     "text": [
      "['1992', '1963', '1969', '1971', '1989', '1978', '1982']\n"
     ]
    }
   ],
   "source": [
    "count={}\n",
    "from datetime import datetime\n",
    "\n",
    "#Cerating dictionary, where keys= different days and values= First ride of the day and Birth year of the customer\n",
    "\n",
    "with open(filename,'r') as fi:\n",
    "    reader = csv.DictReader(fi)\n",
    "    m = map(birth_year, reader)\n",
    "    for i in m:\n",
    "        if i[0] in count.keys():\n",
    "            if count[i[0]][0] > i[1]:\n",
    "                count[i[0]] = [i[1], i[2]]\n",
    "        else:\n",
    "            count[i[0]] = [i[1], i[2]]\n",
    "    \n",
    "    print([x[1] for x in count.values()])"
   ]
  },
  {
   "cell_type": "code",
   "execution_count": null,
   "metadata": {
    "collapsed": true
   },
   "outputs": [],
   "source": []
  }
 ],
 "metadata": {
  "kernelspec": {
   "display_name": "Python 3",
   "language": "python",
   "name": "python3"
  },
  "language_info": {
   "codemirror_mode": {
    "name": "ipython",
    "version": 3
   },
   "file_extension": ".py",
   "mimetype": "text/x-python",
   "name": "python",
   "nbconvert_exporter": "python",
   "pygments_lexer": "ipython3",
   "version": "3.4.3"
  }
 },
 "nbformat": 4,
 "nbformat_minor": 1
}

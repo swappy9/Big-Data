{
 "cells": [
  {
   "cell_type": "code",
   "execution_count": 23,
   "metadata": {},
   "outputs": [],
   "source": [
    "import pandas as pd\n",
    "import numpy as np\n",
    "import seaborn as sns\n",
    "import matplotlib as plt\n",
    "import csv\n",
    "%matplotlib inline"
   ]
  },
  {
   "cell_type": "code",
   "execution_count": 24,
   "metadata": {
    "collapsed": true
   },
   "outputs": [],
   "source": [
    "filename = 'citibike.csv'"
   ]
  },
  {
   "cell_type": "code",
   "execution_count": 33,
   "metadata": {},
   "outputs": [
    {
     "name": "stdout",
     "output_type": "stream",
     "text": [
      "Median Age:  41\n"
     ]
    }
   ],
   "source": [
    "#Reading data line by line and only storing the count, birth year in a dictionary. Total length <100\n",
    "count={}\n",
    "with open(filename,'r') as fi:\n",
    "    next(fi)\n",
    "    for line in fi:\n",
    "        i = line.split(',')[-2]\n",
    "        if i != '':\n",
    "            count[i] = count.get(i,0)+1\n",
    "    current = 0\n",
    "    total = sum(count.values())\n",
    "\n",
    "    for k, v in sorted(count.items()):\n",
    "        current = current + v\n",
    "        if current*2 >= total:\n",
    "            print('Median Age: ', 2018 - int(k))\n",
    "            break\n",
    "    "
   ]
  },
  {
   "cell_type": "code",
   "execution_count": 40,
   "metadata": {},
   "outputs": [
    {
     "data": {
      "text/plain": [
       "<matplotlib.axes._subplots.AxesSubplot at 0x7f826069a668>"
      ]
     },
     "execution_count": 40,
     "metadata": {},
     "output_type": "execute_result"
    },
    {
     "data": {
      "image/png": "[encoded data removed]",
      "text/plain": [
       "<matplotlib.figure.Figure at 0x7f82606423c8>"
      ]
     },
     "metadata": {},
     "output_type": "display_data"
    }
   ],
   "source": [
    "#Ploting the histogram of the data\n",
    "\n",
    "x1 = list(map(lambda x:2018 - int(x), count.keys()))\n",
    "y1 = list(count.values())\n",
    "\n",
    "sns.barplot(x = x1, y=y1,  ci=None)"
   ]
  },
  {
   "cell_type": "code",
   "execution_count": null,
   "metadata": {
    "collapsed": true
   },
   "outputs": [],
   "source": []
  }
 ],
 "metadata": {
  "kernelspec": {
   "display_name": "Python 3",
   "language": "python",
   "name": "python3"
  },
  "language_info": {
   "codemirror_mode": {
    "name": "ipython",
    "version": 3
   },
   "file_extension": ".py",
   "mimetype": "text/x-python",
   "name": "python",
   "nbconvert_exporter": "python",
   "pygments_lexer": "ipython3",
   "version": "3.4.3"
  }
 },
 "nbformat": 4,
 "nbformat_minor": 1
}
